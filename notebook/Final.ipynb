{
  "cells": [
    {
      "cell_type": "code",
      "execution_count": 1,
      "metadata": {
        "id": "TLJduBJrArat"
      },
      "outputs": [],
      "source": [
        "from google.colab import drive\n",
        "import pandas as pd\n",
        "import numpy as np\n",
        "import matplotlib.pyplot as plt\n",
        "import seaborn as sns\n",
        "import re\n",
        "import string\n",
        "import nltk\n",
        "from nltk.corpus import stopwords\n",
        "from tensorflow.keras.callbacks import EarlyStopping\n",
        "from tensorflow.keras.callbacks import ModelCheckpoint\n",
        "from nltk.stem import WordNetLemmatizer\n",
        "from imblearn.over_sampling import RandomOverSampler\n",
        "import os\n",
        "from sklearn.model_selection import train_test_split\n",
        "from sklearn.preprocessing import LabelEncoder, label_binarize\n",
        "from sklearn.metrics import classification_report, confusion_matrix, roc_auc_score\n",
        "import seaborn as sns\n",
        "from wordcloud import WordCloud\n",
        "from textblob import TextBlob\n",
        "from tensorflow.keras import regularizers\n",
        "from tensorflow.keras.preprocessing.text import Tokenizer\n",
        "from tensorflow.keras.preprocessing.sequence import pad_sequences\n",
        "from tensorflow.keras.utils import to_categorical\n",
        "from tensorflow.keras.models import Sequential\n",
        "from tensorflow.keras.layers import Embedding, Bidirectional, LSTM, Dense, Dropout\n",
        "from tensorflow.keras.utils import plot_model\n",
        "from tensorflow.keras.layers import GlobalMaxPooling1D, BatchNormalization"
      ]
    },
    {
      "cell_type": "code",
      "source": [
        "nltk.download('stopwords')\n",
        "nltk.download('punkt')\n",
        "nltk.download('wordnet')\n",
        "nltk.download('omw-1.4')"
      ],
      "metadata": {
        "colab": {
          "base_uri": "https://localhost:8080/"
        },
        "id": "ZVxig_ggSS3l",
        "outputId": "69cac225-99a1-435a-ce6e-e3f635566da7"
      },
      "execution_count": 2,
      "outputs": [
        {
          "output_type": "stream",
          "name": "stderr",
          "text": [
            "[nltk_data] Downloading package stopwords to /root/nltk_data...\n",
            "[nltk_data]   Package stopwords is already up-to-date!\n",
            "[nltk_data] Downloading package punkt to /root/nltk_data...\n",
            "[nltk_data]   Package punkt is already up-to-date!\n",
            "[nltk_data] Downloading package wordnet to /root/nltk_data...\n",
            "[nltk_data]   Package wordnet is already up-to-date!\n",
            "[nltk_data] Downloading package omw-1.4 to /root/nltk_data...\n",
            "[nltk_data]   Package omw-1.4 is already up-to-date!\n"
          ]
        },
        {
          "output_type": "execute_result",
          "data": {
            "text/plain": [
              "True"
            ]
          },
          "metadata": {},
          "execution_count": 2
        }
      ]
    },
    {
      "cell_type": "code",
      "source": [
        "df = pd.read_csv(\"emotion_data.csv\", encoding=\"latin1\")"
      ],
      "metadata": {
        "id": "5enTyguDmdMZ"
      },
      "execution_count": 3,
      "outputs": []
    },
    {
      "cell_type": "code",
      "source": [
        "print(\"🔍 Null values per column:\\n\", df.isnull().sum())\n",
        "print(\"\\nTotal null values:\", df.isnull().sum().sum())\n",
        "\n",
        "# 2. Check class distribution (balance of Emotion column)\n",
        "if \"Emotion\" in df.columns:\n",
        "    print(\"\\n📊 Emotion distribution:\\n\", df['Emotion'].value_counts())\n",
        "    print(\"\\n🔢 Class percentages:\\n\", df['Emotion'].value_counts(normalize=True) * 100)\n",
        "else:\n",
        "    print(\"⚠️ No 'Emotion' column found in dataset\")"
      ],
      "metadata": {
        "colab": {
          "base_uri": "https://localhost:8080/"
        },
        "id": "R8EHNzbfyFUx",
        "outputId": "a8d2c1b8-acc8-4bf0-d22b-9577fe8e9956"
      },
      "execution_count": 4,
      "outputs": [
        {
          "output_type": "stream",
          "name": "stdout",
          "text": [
            "🔍 Null values per column:\n",
            " Neutral     0\n",
            "Joy        38\n",
            "Sad        26\n",
            "Angry      26\n",
            "Fear       72\n",
            "dtype: int64\n",
            "\n",
            "Total null values: 162\n",
            "⚠️ No 'Emotion' column found in dataset\n"
          ]
        }
      ]
    },
    {
      "cell_type": "code",
      "source": [
        "print(df.head(10))"
      ],
      "metadata": {
        "colab": {
          "base_uri": "https://localhost:8080/"
        },
        "id": "OwiCACUFycsx",
        "outputId": "7fd5b9a6-c6fb-48ec-d697-8812dc712114"
      },
      "execution_count": 5,
      "outputs": [
        {
          "output_type": "stream",
          "name": "stdout",
          "text": [
            "                             Neutral  \\\n",
            "0           finished morning lecture   \n",
            "1                going library study   \n",
            "2      assignment deadline next week   \n",
            "3             meeting study group pm   \n",
            "4  professor posted new slide online   \n",
            "5      presentation scheduled friday   \n",
            "6       lab session tomorrow morning   \n",
            "7      completing daily reading list   \n",
            "8              exams start two weeks   \n",
            "9       just registered new semester   \n",
            "\n",
            "                                                Joy   \\\n",
            "0                      I am enjoying with my homies.   \n",
            "1           I got highest grades for every subjects.   \n",
            "2                             Found good food today.   \n",
            "3         I enjoyed so much at freshers night party.   \n",
            "4                     My research idea was accepted.   \n",
            "5                             I passed all subjects.   \n",
            "6  I am very happy I submitted all assignments on...   \n",
            "7                       Finished the project early.    \n",
            "8                          Had a great lecture time.   \n",
            "9                      Enjoyed the field trip today.   \n",
            "\n",
            "                                                Sad   \\\n",
            "0                           I cired a lot yesterday.   \n",
            "1                                 my laptop crashed.   \n",
            "2                                    Got a low grade   \n",
            "3                     I got rejected from my affair.   \n",
            "4    I lost my wallet today I am vey sad about that.   \n",
            "5  Couldnot meet the deadline and very upset abou...   \n",
            "6                            Lecturer blamed on us .   \n",
            "7                            I repeat four subjects.   \n",
            "8  I stopped relationship and my heart borken int...   \n",
            "9                               when I fail my exam.   \n",
            "\n",
            "                                Angry                                   Fear  \n",
            "0     System crashed during submission         terrified tomorrow final exam  \n",
            "1         Groupmates didnot contribute                         graduate time  \n",
            "2                       Lab was locked        worried fail organic chemistry  \n",
            "3                Unfair marking scheme    scared thesis defense presentation  \n",
            "4                 Work load is high .                scholarship get revoked  \n",
            "5         Noisy classroom disturbed me               anxious meeting advisor  \n",
            "6                 Had to redo the work              afraid chose wrong major  \n",
            "7  I  am very angry with my roommates.  worried finding job after graduation  \n",
            "8            Had back to back lectures           scared speaking front class  \n",
            "9             They never listen to me.                handle course workload  \n"
          ]
        }
      ]
    },
    {
      "cell_type": "code",
      "execution_count": 6,
      "metadata": {
        "colab": {
          "base_uri": "https://localhost:8080/"
        },
        "id": "A1SghFPcDejV",
        "outputId": "8d413313-7683-4eba-bed2-4fed2e894522"
      },
      "outputs": [
        {
          "output_type": "stream",
          "name": "stdout",
          "text": [
            "\n",
            "✅ Reshaped dataset ready in memory\n",
            "\n",
            "First few rows:\n",
            "                                             Text  Emotion\n",
            "0                       Checked email for updates  Neutral\n",
            "1  I hate how they never give clear instructions.    Angry\n",
            "2                              my laptop crashed.      Sad\n",
            "3           scared competitive internship process     Fear\n",
            "4      Academic writing skills reaching new level      Joy\n",
            "5                      Attended research workshop  Neutral\n",
            "6       I am lucky to have great friends with me.      Joy\n",
            "7                   Reviewed methodological rigor  Neutral\n",
            "8        Academic achievements losing all meaning      Sad\n",
            "9           Lost my file with important documents      Sad\n",
            "\n",
            "Unique emotions: ['Neutral' 'Angry' 'Sad' 'Fear' 'Joy']\n"
          ]
        }
      ],
      "source": [
        "df.columns = df.columns.str.strip()\n",
        "\n",
        "# Step 3: Define emotion columns (now without spaces)\n",
        "emotion_cols = ['Neutral', 'Joy', 'Sad', 'Angry', 'Fear']\n",
        "\n",
        "# Step 4: Reshape into long format\n",
        "long_df = pd.DataFrame()\n",
        "\n",
        "for emotion in emotion_cols:\n",
        "    if emotion in df.columns:\n",
        "        temp = pd.DataFrame()\n",
        "        temp['Text'] = df[emotion]          # take texts\n",
        "        temp['Emotion'] = emotion           # assign emotion label\n",
        "        if 'Gender' in df.columns:\n",
        "            temp['Gender'] = df['Gender']   # copy gender if exists\n",
        "        long_df = pd.concat([long_df, temp], ignore_index=True)\n",
        "    else:\n",
        "        print(f\"⚠️ Column '{emotion}' not found in CSV\")\n",
        "\n",
        "# Step 5: Clean and shuffle\n",
        "long_df.dropna(subset=['Text'], inplace=True)\n",
        "long_df = long_df.sample(frac=1, random_state=42).reset_index(drop=True)\n",
        "\n",
        "# Step 6: Display results\n",
        "print(\"\\n✅ Reshaped dataset ready in memory\")\n",
        "print(\"\\nFirst few rows:\")\n",
        "print(long_df.head(10))\n",
        "print(\"\\nUnique emotions:\", long_df['Emotion'].unique())\n"
      ]
    },
    {
      "cell_type": "code",
      "source": [
        "long_df.to_csv(\"reshaped_data.csv\", index=False)\n",
        "\n",
        "print(\"\\n✅ Reshaped dataset saved as 'reshaped_data.csv' in Colab files.\")"
      ],
      "metadata": {
        "colab": {
          "base_uri": "https://localhost:8080/"
        },
        "id": "9p4ApS74YWlj",
        "outputId": "f6917d23-944a-442a-8a88-8493579a7dca"
      },
      "execution_count": 7,
      "outputs": [
        {
          "output_type": "stream",
          "name": "stdout",
          "text": [
            "\n",
            "✅ Reshaped dataset saved as 'reshaped_data.csv' in Colab files.\n"
          ]
        }
      ]
    },
    {
      "cell_type": "code",
      "source": [
        "\n",
        "\n",
        "df = pd.read_csv(\"reshaped_data.csv\")"
      ],
      "metadata": {
        "id": "CMrgP7Y7z8bK"
      },
      "execution_count": 8,
      "outputs": []
    },
    {
      "cell_type": "code",
      "source": [
        "print(df['Emotion'].value_counts())\n"
      ],
      "metadata": {
        "colab": {
          "base_uri": "https://localhost:8080/"
        },
        "id": "q3Dw6qBFzwYV",
        "outputId": "d8dbc795-bfbe-479c-93b2-21f24ce4ca51"
      },
      "execution_count": 9,
      "outputs": [
        {
          "output_type": "stream",
          "name": "stdout",
          "text": [
            "Emotion\n",
            "Neutral    566\n",
            "Angry      540\n",
            "Sad        540\n",
            "Joy        528\n",
            "Fear       494\n",
            "Name: count, dtype: int64\n"
          ]
        }
      ]
    },
    {
      "cell_type": "code",
      "source": [
        "X = df['Text']\n",
        "y = df['Emotion']\n",
        "\n",
        "# Convert X to a dataframe because RandomOverSampler needs tabular format\n",
        "X = X.values.reshape(-1, 1)\n",
        "\n",
        "# Apply Random Oversampling\n",
        "ros = RandomOverSampler(random_state=42)\n",
        "X_resampled, y_resampled = ros.fit_resample(X, y)\n",
        "\n",
        "# Back to dataframe\n",
        "balanced_df = pd.DataFrame({\n",
        "    \"Clean_Text\": X_resampled.flatten(),\n",
        "    \"Emotion\": y_resampled\n",
        "})\n",
        "\n",
        "print(\"✅ Dataset balanced\")\n",
        "print(balanced_df['Emotion'].value_counts())\n",
        "\n",
        "# Save balanced dataset\n",
        "balanced_df.to_csv(\"balanced_data.csv\", index=False)"
      ],
      "metadata": {
        "colab": {
          "base_uri": "https://localhost:8080/"
        },
        "id": "6dwXL4fg177C",
        "outputId": "646ac610-acd0-4dbb-f638-08b4f2bfb5a4"
      },
      "execution_count": 10,
      "outputs": [
        {
          "output_type": "stream",
          "name": "stdout",
          "text": [
            "✅ Dataset balanced\n",
            "Emotion\n",
            "Neutral    566\n",
            "Angry      566\n",
            "Sad        566\n",
            "Fear       566\n",
            "Joy        566\n",
            "Name: count, dtype: int64\n"
          ]
        }
      ]
    },
    {
      "cell_type": "code",
      "source": [
        "df = pd.read_csv(\"balanced_data.csv\")"
      ],
      "metadata": {
        "id": "8jtqucQN2ncD"
      },
      "execution_count": 11,
      "outputs": []
    },
    {
      "cell_type": "code",
      "source": [
        "print(df.head(10))"
      ],
      "metadata": {
        "colab": {
          "base_uri": "https://localhost:8080/"
        },
        "id": "A0i8vGIB2xrb",
        "outputId": "576634e0-b893-4ffe-bb0d-eea29ba027fd"
      },
      "execution_count": 12,
      "outputs": [
        {
          "output_type": "stream",
          "name": "stdout",
          "text": [
            "                                       Clean_Text  Emotion\n",
            "0                       Checked email for updates  Neutral\n",
            "1  I hate how they never give clear instructions.    Angry\n",
            "2                              my laptop crashed.      Sad\n",
            "3           scared competitive internship process     Fear\n",
            "4      Academic writing skills reaching new level      Joy\n",
            "5                      Attended research workshop  Neutral\n",
            "6       I am lucky to have great friends with me.      Joy\n",
            "7                   Reviewed methodological rigor  Neutral\n",
            "8        Academic achievements losing all meaning      Sad\n",
            "9           Lost my file with important documents      Sad\n"
          ]
        }
      ]
    },
    {
      "cell_type": "code",
      "source": [
        "from google.colab import files\n",
        "files.download(\"reshaped_data.csv\")\n"
      ],
      "metadata": {
        "colab": {
          "base_uri": "https://localhost:8080/",
          "height": 17
        },
        "id": "KNi1u_O4YZeR",
        "outputId": "be413550-d6a3-4782-cfdb-6a0ab9566043"
      },
      "execution_count": 13,
      "outputs": [
        {
          "output_type": "display_data",
          "data": {
            "text/plain": [
              "<IPython.core.display.Javascript object>"
            ],
            "application/javascript": [
              "\n",
              "    async function download(id, filename, size) {\n",
              "      if (!google.colab.kernel.accessAllowed) {\n",
              "        return;\n",
              "      }\n",
              "      const div = document.createElement('div');\n",
              "      const label = document.createElement('label');\n",
              "      label.textContent = `Downloading \"${filename}\": `;\n",
              "      div.appendChild(label);\n",
              "      const progress = document.createElement('progress');\n",
              "      progress.max = size;\n",
              "      div.appendChild(progress);\n",
              "      document.body.appendChild(div);\n",
              "\n",
              "      const buffers = [];\n",
              "      let downloaded = 0;\n",
              "\n",
              "      const channel = await google.colab.kernel.comms.open(id);\n",
              "      // Send a message to notify the kernel that we're ready.\n",
              "      channel.send({})\n",
              "\n",
              "      for await (const message of channel.messages) {\n",
              "        // Send a message to notify the kernel that we're ready.\n",
              "        channel.send({})\n",
              "        if (message.buffers) {\n",
              "          for (const buffer of message.buffers) {\n",
              "            buffers.push(buffer);\n",
              "            downloaded += buffer.byteLength;\n",
              "            progress.value = downloaded;\n",
              "          }\n",
              "        }\n",
              "      }\n",
              "      const blob = new Blob(buffers, {type: 'application/binary'});\n",
              "      const a = document.createElement('a');\n",
              "      a.href = window.URL.createObjectURL(blob);\n",
              "      a.download = filename;\n",
              "      div.appendChild(a);\n",
              "      a.click();\n",
              "      div.remove();\n",
              "    }\n",
              "  "
            ]
          },
          "metadata": {}
        },
        {
          "output_type": "display_data",
          "data": {
            "text/plain": [
              "<IPython.core.display.Javascript object>"
            ],
            "application/javascript": [
              "download(\"download_21b5ceb0-a7b0-41b7-b65e-f71102b76698\", \"reshaped_data.csv\", 107191)"
            ]
          },
          "metadata": {}
        }
      ]
    },
    {
      "cell_type": "code",
      "execution_count": 12,
      "metadata": {
        "colab": {
          "base_uri": "https://localhost:8080/"
        },
        "id": "ViJJYfWdEB7C",
        "outputId": "a57b3183-9d7a-475d-ec97-0bc8804124eb"
      },
      "outputs": [
        {
          "output_type": "stream",
          "name": "stdout",
          "text": [
            "<class 'pandas.core.frame.DataFrame'>\n",
            "RangeIndex: 2830 entries, 0 to 2829\n",
            "Data columns (total 2 columns):\n",
            " #   Column      Non-Null Count  Dtype \n",
            "---  ------      --------------  ----- \n",
            " 0   Clean_Text  2830 non-null   object\n",
            " 1   Emotion     2830 non-null   object\n",
            "dtypes: object(2)\n",
            "memory usage: 44.3+ KB\n",
            "None\n"
          ]
        }
      ],
      "source": [
        "print(df.info())"
      ]
    },
    {
      "cell_type": "code",
      "source": [
        "stop_words = set(stopwords.words(\"english\"))\n",
        "lemmatizer = WordNetLemmatizer()"
      ],
      "metadata": {
        "id": "yzAKPPkURAGY"
      },
      "execution_count": 13,
      "outputs": []
    },
    {
      "cell_type": "code",
      "source": [
        "import nltk\n",
        "nltk.download(punkt_tab)"
      ],
      "metadata": {
        "colab": {
          "base_uri": "https://localhost:8080/",
          "height": 158
        },
        "id": "1dmEraqvWxg-",
        "outputId": "f5d32f50-24c2-479d-a24d-db1cf6b99864"
      },
      "execution_count": 11,
      "outputs": [
        {
          "output_type": "error",
          "ename": "NameError",
          "evalue": "name 'punkt_tab' is not defined",
          "traceback": [
            "\u001b[0;31m---------------------------------------------------------------------------\u001b[0m",
            "\u001b[0;31mNameError\u001b[0m                                 Traceback (most recent call last)",
            "\u001b[0;32m/tmp/ipython-input-3188039437.py\u001b[0m in \u001b[0;36m<cell line: 0>\u001b[0;34m()\u001b[0m\n\u001b[1;32m      1\u001b[0m \u001b[0;32mimport\u001b[0m \u001b[0mnltk\u001b[0m\u001b[0;34m\u001b[0m\u001b[0;34m\u001b[0m\u001b[0m\n\u001b[0;32m----> 2\u001b[0;31m \u001b[0mnltk\u001b[0m\u001b[0;34m.\u001b[0m\u001b[0mdownload\u001b[0m\u001b[0;34m(\u001b[0m\u001b[0mpunkt_tab\u001b[0m\u001b[0;34m)\u001b[0m\u001b[0;34m\u001b[0m\u001b[0;34m\u001b[0m\u001b[0m\n\u001b[0m",
            "\u001b[0;31mNameError\u001b[0m: name 'punkt_tab' is not defined"
          ]
        }
      ]
    },
    {
      "cell_type": "code",
      "source": [
        "def preprocess_text(text):\n",
        "    if pd.isna(text):\n",
        "        return \"\"\n",
        "\n",
        "    # Lowercase\n",
        "    text = text.lower()\n",
        "\n",
        "    # Remove links\n",
        "    text = re.sub(r'http\\S+|www\\S+', '', text)\n",
        "\n",
        "    # Remove numbers\n",
        "    text = re.sub(r'\\d+', '', text)\n",
        "\n",
        "    # Remove extra whitespaces\n",
        "    text = re.sub(r'\\s+', ' ', text).strip()\n",
        "\n",
        "    # Tokenize\n",
        "    words = nltk.word_tokenize(text)\n",
        "\n",
        "    # Remove stopwords + Lemmatization\n",
        "    words = [lemmatizer.lemmatize(word) for word in words if word.isalpha() and word not in stop_words]\n",
        "\n",
        "    return \" \".join(words)\n",
        "\n",
        "# Load dataset\n",
        "# df = pd.read_csv(\"emotion_new.csv\")   # <-- replace with your original dataset file\n",
        "\n",
        "# Apply preprocessing\n",
        "long_df[\"Clean_Text\"] = long_df[\"Text\"].apply(preprocess_text)\n",
        "\n",
        "# Keep only Clean_Text + Emotion\n",
        "df_final = long_df[[\"Clean_Text\", \"Emotion\"]]\n",
        "\n",
        "# Save processed dataset\n",
        "df_final.to_csv(\"preprocessed_data.csv\", index=False)\n",
        "\n",
        "print(\"\\n✅ Preprocessed dataset saved as 'preprocessed_data.csv'\")\n",
        "print(df_final.head(10))"
      ],
      "metadata": {
        "colab": {
          "base_uri": "https://localhost:8080/"
        },
        "id": "Z3TcE0_5Wogg",
        "outputId": "b79d1d2a-f9d4-42d4-855a-5459ca137f54"
      },
      "execution_count": 14,
      "outputs": [
        {
          "output_type": "stream",
          "name": "stdout",
          "text": [
            "\n",
            "✅ Preprocessed dataset saved as 'preprocessed_data.csv'\n",
            "                                  Clean_Text  Emotion\n",
            "0                       checked email update  Neutral\n",
            "1          hate never give clear instruction    Angry\n",
            "2                             laptop crashed      Sad\n",
            "3      scared competitive internship process     Fear\n",
            "4  academic writing skill reaching new level      Joy\n",
            "5                 attended research workshop  Neutral\n",
            "6                         lucky great friend      Joy\n",
            "7              reviewed methodological rigor  Neutral\n",
            "8        academic achievement losing meaning      Sad\n",
            "9               lost file important document      Sad\n"
          ]
        }
      ]
    },
    {
      "cell_type": "code",
      "source": [
        "\n",
        "df = pd.read_csv(\"preprocessed_data.csv\")"
      ],
      "metadata": {
        "id": "X6EZPrlKS3oQ"
      },
      "execution_count": 15,
      "outputs": []
    },
    {
      "cell_type": "code",
      "source": [
        "print(df.head(10))"
      ],
      "metadata": {
        "colab": {
          "base_uri": "https://localhost:8080/"
        },
        "id": "d7WmwzYaS-_6",
        "outputId": "909ef58a-a69d-4d63-e924-397322bd4c7e"
      },
      "execution_count": 17,
      "outputs": [
        {
          "output_type": "stream",
          "name": "stdout",
          "text": [
            "                                  Clean_Text  Emotion\n",
            "0                       checked email update  Neutral\n",
            "1          hate never give clear instruction    Angry\n",
            "2                             laptop crashed      Sad\n",
            "3      scared competitive internship process     Fear\n",
            "4  academic writing skill reaching new level      Joy\n",
            "5                 attended research workshop  Neutral\n",
            "6                         lucky great friend      Joy\n",
            "7              reviewed methodological rigor  Neutral\n",
            "8        academic achievement losing meaning      Sad\n",
            "9               lost file important document      Sad\n"
          ]
        }
      ]
    },
    {
      "cell_type": "code",
      "source": [
        "sentences = df['Clean_Text'].astype(str).tolist()\n",
        "emotions = df['Emotion'].tolist()"
      ],
      "metadata": {
        "id": "BdjsgK9BUmUo"
      },
      "execution_count": 16,
      "outputs": []
    },
    {
      "cell_type": "code",
      "source": [
        "label_encoder = LabelEncoder()\n",
        "integer_labels = label_encoder.fit_transform(emotions)   # e.g. Joy→0, Sad→1, Angry→2\n",
        "num_classes = len(label_encoder.classes_)\n",
        "one_hot_labels = to_categorical(integer_labels, num_classes=num_classes)\n"
      ],
      "metadata": {
        "id": "8tUVs9ZoUoRX"
      },
      "execution_count": 17,
      "outputs": []
    },
    {
      "cell_type": "code",
      "source": [
        "X_train, X_test, y_train, y_test = train_test_split(sentences, one_hot_labels, test_size=0.2, random_state=42)\n",
        "X_train, X_val, y_train, y_val = train_test_split(X_train, y_train, test_size=0.2, random_state=42)\n"
      ],
      "metadata": {
        "id": "PH0c50-8UqrW"
      },
      "execution_count": 18,
      "outputs": []
    },
    {
      "cell_type": "code",
      "source": [
        "word_to_index = {}\n",
        "index = 1  # start from 1, reserve 0 for padding\n",
        "for sentence in X_train + X_val + X_test:\n",
        "    for word in sentence.split():\n",
        "        if word not in word_to_index:\n",
        "            word_to_index[word] = index\n",
        "            index += 1"
      ],
      "metadata": {
        "id": "gv8XAaB_Ux-1"
      },
      "execution_count": 19,
      "outputs": []
    },
    {
      "cell_type": "code",
      "source": [
        "def text_to_sequence(sentences, word_to_index):\n",
        "    return [[word_to_index[word] for word in sentence.split() if word in word_to_index] for sentence in sentences]\n",
        "\n",
        "X_train_sequences = text_to_sequence(X_train, word_to_index)\n",
        "X_val_sequences = text_to_sequence(X_val, word_to_index)\n",
        "X_test_sequences = text_to_sequence(X_test, word_to_index)\n"
      ],
      "metadata": {
        "id": "Q9hmzaanU5g0"
      },
      "execution_count": 20,
      "outputs": []
    },
    {
      "cell_type": "code",
      "source": [
        "max_sequence_length = max(len(seq) for seq in X_train_sequences + X_val_sequences + X_test_sequences)\n",
        "X_train_padded = pad_sequences(X_train_sequences, maxlen=max_sequence_length, padding='post')\n",
        "X_val_padded = pad_sequences(X_val_sequences, maxlen=max_sequence_length, padding='post')\n",
        "X_test_padded = pad_sequences(X_test_sequences, maxlen=max_sequence_length, padding='post')\n"
      ],
      "metadata": {
        "id": "0GD4XgNSU7Go"
      },
      "execution_count": 21,
      "outputs": []
    },
    {
      "cell_type": "code",
      "source": [
        "early_stop = EarlyStopping(\n",
        "    monitor='val_loss',   # watch validation loss\n",
        "    patience=3,           # stop after 3 epochs without improvement\n",
        "    restore_best_weights=True # revert to best model\n",
        ")"
      ],
      "metadata": {
        "id": "q0hq21-k4B51"
      },
      "execution_count": 23,
      "outputs": []
    },
    {
      "cell_type": "code",
      "source": [
        "model = Sequential([\n",
        "    Embedding(input_dim=len(word_to_index) + 1, output_dim=64, input_length=max_sequence_length),\n",
        "    Bidirectional(LSTM(16, dropout=0.3, recurrent_dropout=0.3)),\n",
        "    Dropout(0.6),\n",
        "    Dense(num_classes, activation='softmax')\n",
        "])\n"
      ],
      "metadata": {
        "colab": {
          "base_uri": "https://localhost:8080/"
        },
        "id": "QAIVZYf6U8_t",
        "outputId": "77e0979b-9672-4d97-a01c-e5065f1fb00f"
      },
      "execution_count": 24,
      "outputs": [
        {
          "output_type": "stream",
          "name": "stderr",
          "text": [
            "/usr/local/lib/python3.12/dist-packages/keras/src/layers/core/embedding.py:97: UserWarning: Argument `input_length` is deprecated. Just remove it.\n",
            "  warnings.warn(\n"
          ]
        }
      ]
    },
    {
      "cell_type": "code",
      "source": [
        "model.compile(loss='categorical_crossentropy', optimizer='adam', metrics=['accuracy'])\n",
        "model.summary()"
      ],
      "metadata": {
        "colab": {
          "base_uri": "https://localhost:8080/",
          "height": 257
        },
        "id": "r4m4o768nWmt",
        "outputId": "9450c928-a13e-4ea9-8eda-6a485cf34b1b"
      },
      "execution_count": 25,
      "outputs": [
        {
          "output_type": "display_data",
          "data": {
            "text/plain": [
              "\u001b[1mModel: \"sequential\"\u001b[0m\n"
            ],
            "text/html": [
              "<pre style=\"white-space:pre;overflow-x:auto;line-height:normal;font-family:Menlo,'DejaVu Sans Mono',consolas,'Courier New',monospace\"><span style=\"font-weight: bold\">Model: \"sequential\"</span>\n",
              "</pre>\n"
            ]
          },
          "metadata": {}
        },
        {
          "output_type": "display_data",
          "data": {
            "text/plain": [
              "┏━━━━━━━━━━━━━━━━━━━━━━━━━━━━━━━━━┳━━━━━━━━━━━━━━━━━━━━━━━━┳━━━━━━━━━━━━━━━┓\n",
              "┃\u001b[1m \u001b[0m\u001b[1mLayer (type)                   \u001b[0m\u001b[1m \u001b[0m┃\u001b[1m \u001b[0m\u001b[1mOutput Shape          \u001b[0m\u001b[1m \u001b[0m┃\u001b[1m \u001b[0m\u001b[1m      Param #\u001b[0m\u001b[1m \u001b[0m┃\n",
              "┡━━━━━━━━━━━━━━━━━━━━━━━━━━━━━━━━━╇━━━━━━━━━━━━━━━━━━━━━━━━╇━━━━━━━━━━━━━━━┩\n",
              "│ embedding (\u001b[38;5;33mEmbedding\u001b[0m)           │ ?                      │   \u001b[38;5;34m0\u001b[0m (unbuilt) │\n",
              "├─────────────────────────────────┼────────────────────────┼───────────────┤\n",
              "│ bidirectional (\u001b[38;5;33mBidirectional\u001b[0m)   │ ?                      │   \u001b[38;5;34m0\u001b[0m (unbuilt) │\n",
              "├─────────────────────────────────┼────────────────────────┼───────────────┤\n",
              "│ dropout (\u001b[38;5;33mDropout\u001b[0m)               │ ?                      │             \u001b[38;5;34m0\u001b[0m │\n",
              "├─────────────────────────────────┼────────────────────────┼───────────────┤\n",
              "│ dense (\u001b[38;5;33mDense\u001b[0m)                   │ ?                      │   \u001b[38;5;34m0\u001b[0m (unbuilt) │\n",
              "└─────────────────────────────────┴────────────────────────┴───────────────┘\n"
            ],
            "text/html": [
              "<pre style=\"white-space:pre;overflow-x:auto;line-height:normal;font-family:Menlo,'DejaVu Sans Mono',consolas,'Courier New',monospace\">┏━━━━━━━━━━━━━━━━━━━━━━━━━━━━━━━━━┳━━━━━━━━━━━━━━━━━━━━━━━━┳━━━━━━━━━━━━━━━┓\n",
              "┃<span style=\"font-weight: bold\"> Layer (type)                    </span>┃<span style=\"font-weight: bold\"> Output Shape           </span>┃<span style=\"font-weight: bold\">       Param # </span>┃\n",
              "┡━━━━━━━━━━━━━━━━━━━━━━━━━━━━━━━━━╇━━━━━━━━━━━━━━━━━━━━━━━━╇━━━━━━━━━━━━━━━┩\n",
              "│ embedding (<span style=\"color: #0087ff; text-decoration-color: #0087ff\">Embedding</span>)           │ ?                      │   <span style=\"color: #00af00; text-decoration-color: #00af00\">0</span> (unbuilt) │\n",
              "├─────────────────────────────────┼────────────────────────┼───────────────┤\n",
              "│ bidirectional (<span style=\"color: #0087ff; text-decoration-color: #0087ff\">Bidirectional</span>)   │ ?                      │   <span style=\"color: #00af00; text-decoration-color: #00af00\">0</span> (unbuilt) │\n",
              "├─────────────────────────────────┼────────────────────────┼───────────────┤\n",
              "│ dropout (<span style=\"color: #0087ff; text-decoration-color: #0087ff\">Dropout</span>)               │ ?                      │             <span style=\"color: #00af00; text-decoration-color: #00af00\">0</span> │\n",
              "├─────────────────────────────────┼────────────────────────┼───────────────┤\n",
              "│ dense (<span style=\"color: #0087ff; text-decoration-color: #0087ff\">Dense</span>)                   │ ?                      │   <span style=\"color: #00af00; text-decoration-color: #00af00\">0</span> (unbuilt) │\n",
              "└─────────────────────────────────┴────────────────────────┴───────────────┘\n",
              "</pre>\n"
            ]
          },
          "metadata": {}
        },
        {
          "output_type": "display_data",
          "data": {
            "text/plain": [
              "\u001b[1m Total params: \u001b[0m\u001b[38;5;34m0\u001b[0m (0.00 B)\n"
            ],
            "text/html": [
              "<pre style=\"white-space:pre;overflow-x:auto;line-height:normal;font-family:Menlo,'DejaVu Sans Mono',consolas,'Courier New',monospace\"><span style=\"font-weight: bold\"> Total params: </span><span style=\"color: #00af00; text-decoration-color: #00af00\">0</span> (0.00 B)\n",
              "</pre>\n"
            ]
          },
          "metadata": {}
        },
        {
          "output_type": "display_data",
          "data": {
            "text/plain": [
              "\u001b[1m Trainable params: \u001b[0m\u001b[38;5;34m0\u001b[0m (0.00 B)\n"
            ],
            "text/html": [
              "<pre style=\"white-space:pre;overflow-x:auto;line-height:normal;font-family:Menlo,'DejaVu Sans Mono',consolas,'Courier New',monospace\"><span style=\"font-weight: bold\"> Trainable params: </span><span style=\"color: #00af00; text-decoration-color: #00af00\">0</span> (0.00 B)\n",
              "</pre>\n"
            ]
          },
          "metadata": {}
        },
        {
          "output_type": "display_data",
          "data": {
            "text/plain": [
              "\u001b[1m Non-trainable params: \u001b[0m\u001b[38;5;34m0\u001b[0m (0.00 B)\n"
            ],
            "text/html": [
              "<pre style=\"white-space:pre;overflow-x:auto;line-height:normal;font-family:Menlo,'DejaVu Sans Mono',consolas,'Courier New',monospace\"><span style=\"font-weight: bold\"> Non-trainable params: </span><span style=\"color: #00af00; text-decoration-color: #00af00\">0</span> (0.00 B)\n",
              "</pre>\n"
            ]
          },
          "metadata": {}
        }
      ]
    },
    {
      "cell_type": "code",
      "source": [
        "history = model.fit(\n",
        "    X_train_padded, y_train,\n",
        "    epochs=20,\n",
        "    batch_size=16,\n",
        "    validation_data=(X_val_padded, y_val),\n",
        "    callbacks=[early_stop],   # add here\n",
        "    verbose=1\n",
        ")"
      ],
      "metadata": {
        "colab": {
          "base_uri": "https://localhost:8080/"
        },
        "id": "I63DcSIunJPJ",
        "outputId": "06e5a496-4162-43b8-d335-f05ef3724ccd"
      },
      "execution_count": 26,
      "outputs": [
        {
          "output_type": "stream",
          "name": "stdout",
          "text": [
            "Epoch 1/20\n",
            "\u001b[1m107/107\u001b[0m \u001b[32m━━━━━━━━━━━━━━━━━━━━\u001b[0m\u001b[37m\u001b[0m \u001b[1m12s\u001b[0m 29ms/step - accuracy: 0.2345 - loss: 1.6012 - val_accuracy: 0.5246 - val_loss: 1.5496\n",
            "Epoch 2/20\n",
            "\u001b[1m107/107\u001b[0m \u001b[32m━━━━━━━━━━━━━━━━━━━━\u001b[0m\u001b[37m\u001b[0m \u001b[1m2s\u001b[0m 19ms/step - accuracy: 0.4785 - loss: 1.4657 - val_accuracy: 0.7166 - val_loss: 1.0091\n",
            "Epoch 3/20\n",
            "\u001b[1m107/107\u001b[0m \u001b[32m━━━━━━━━━━━━━━━━━━━━\u001b[0m\u001b[37m\u001b[0m \u001b[1m2s\u001b[0m 18ms/step - accuracy: 0.6704 - loss: 0.9040 - val_accuracy: 0.7728 - val_loss: 0.7269\n",
            "Epoch 4/20\n",
            "\u001b[1m107/107\u001b[0m \u001b[32m━━━━━━━━━━━━━━━━━━━━\u001b[0m\u001b[37m\u001b[0m \u001b[1m3s\u001b[0m 30ms/step - accuracy: 0.8307 - loss: 0.5692 - val_accuracy: 0.8337 - val_loss: 0.5474\n",
            "Epoch 5/20\n",
            "\u001b[1m107/107\u001b[0m \u001b[32m━━━━━━━━━━━━━━━━━━━━\u001b[0m\u001b[37m\u001b[0m \u001b[1m2s\u001b[0m 19ms/step - accuracy: 0.8962 - loss: 0.3864 - val_accuracy: 0.8501 - val_loss: 0.4934\n",
            "Epoch 6/20\n",
            "\u001b[1m107/107\u001b[0m \u001b[32m━━━━━━━━━━━━━━━━━━━━\u001b[0m\u001b[37m\u001b[0m \u001b[1m3s\u001b[0m 25ms/step - accuracy: 0.9431 - loss: 0.2841 - val_accuracy: 0.8454 - val_loss: 0.5000\n",
            "Epoch 7/20\n",
            "\u001b[1m107/107\u001b[0m \u001b[32m━━━━━━━━━━━━━━━━━━━━\u001b[0m\u001b[37m\u001b[0m \u001b[1m2s\u001b[0m 18ms/step - accuracy: 0.9541 - loss: 0.1999 - val_accuracy: 0.8571 - val_loss: 0.5163\n",
            "Epoch 8/20\n",
            "\u001b[1m107/107\u001b[0m \u001b[32m━━━━━━━━━━━━━━━━━━━━\u001b[0m\u001b[37m\u001b[0m \u001b[1m2s\u001b[0m 19ms/step - accuracy: 0.9599 - loss: 0.1837 - val_accuracy: 0.8689 - val_loss: 0.5378\n"
          ]
        }
      ]
    },
    {
      "cell_type": "code",
      "source": [
        "final_val_accuracy = history.history['val_accuracy'][-1]\n",
        "final_val_loss = history.history['val_loss'][-1]\n",
        "print(f\"Final Validation Accuracy: {final_val_accuracy:.4f}\")\n",
        "print(f\"Final Validation Loss: {final_val_loss:.4f}\")"
      ],
      "metadata": {
        "colab": {
          "base_uri": "https://localhost:8080/"
        },
        "id": "z1Hn0QAYiym8",
        "outputId": "3b0f79d4-578a-405a-ea4b-0916e224d2bc"
      },
      "execution_count": 27,
      "outputs": [
        {
          "output_type": "stream",
          "name": "stdout",
          "text": [
            "Final Validation Accuracy: 0.8689\n",
            "Final Validation Loss: 0.5378\n"
          ]
        }
      ]
    },
    {
      "cell_type": "code",
      "source": [
        "loss, accuracy = model.evaluate(X_test_padded, y_test)\n",
        "print(\"BiLSTM Accuracy:\", accuracy)"
      ],
      "metadata": {
        "colab": {
          "base_uri": "https://localhost:8080/"
        },
        "id": "GlrjAWM3kB9A",
        "outputId": "dbbdbf9e-60b1-46c2-e82a-a00c806b637b"
      },
      "execution_count": 31,
      "outputs": [
        {
          "output_type": "stream",
          "name": "stdout",
          "text": [
            "\u001b[1m17/17\u001b[0m \u001b[32m━━━━━━━━━━━━━━━━━━━━\u001b[0m\u001b[37m\u001b[0m \u001b[1m0s\u001b[0m 18ms/step - accuracy: 0.8321 - loss: 0.5679\n",
            "BiLSTM Accuracy: 0.8164793848991394\n"
          ]
        }
      ]
    },
    {
      "cell_type": "code",
      "source": [
        "from sklearn.metrics import classification_report, accuracy_score"
      ],
      "metadata": {
        "id": "SfIEmyHLlOzl"
      },
      "execution_count": 33,
      "outputs": []
    },
    {
      "cell_type": "code",
      "source": [
        "y_pred_probs = model.predict(X_test_padded)\n",
        "\n",
        "# 2️⃣ Convert probabilities to class indices\n",
        "y_pred_classes = np.argmax(y_pred_probs, axis=1)\n",
        "\n",
        "# 3️⃣ Convert one-hot test labels to class indices\n",
        "y_true = np.argmax(y_test, axis=1)\n",
        "\n",
        "# 4️⃣ Accuracy\n",
        "accuracy = accuracy_score(y_true, y_pred_classes)\n",
        "print(f\"✅ Test Accuracy: {accuracy:.4f}\")\n",
        "\n",
        "# 5️⃣ Precision, Recall, F1-score per class\n",
        "print(\"\\n📊 Classification Report:\")\n",
        "print(classification_report(\n",
        "    y_true,\n",
        "    y_pred_classes,\n",
        "    target_names=label_encoder.classes_\n",
        "))"
      ],
      "metadata": {
        "colab": {
          "base_uri": "https://localhost:8080/"
        },
        "id": "elQ2K4zAkrPE",
        "outputId": "3e1858b9-3505-4871-ab9c-adb2e86ab324"
      },
      "execution_count": 34,
      "outputs": [
        {
          "output_type": "stream",
          "name": "stdout",
          "text": [
            "\u001b[1m17/17\u001b[0m \u001b[32m━━━━━━━━━━━━━━━━━━━━\u001b[0m\u001b[37m\u001b[0m \u001b[1m0s\u001b[0m 4ms/step \n",
            "✅ Test Accuracy: 0.8165\n",
            "\n",
            "📊 Classification Report:\n",
            "              precision    recall  f1-score   support\n",
            "\n",
            "       Angry       0.81      0.85      0.83       108\n",
            "        Fear       0.89      0.95      0.92        93\n",
            "         Joy       0.87      0.69      0.77        97\n",
            "     Neutral       0.85      0.77      0.81       119\n",
            "         Sad       0.71      0.83      0.76       117\n",
            "\n",
            "    accuracy                           0.82       534\n",
            "   macro avg       0.83      0.82      0.82       534\n",
            "weighted avg       0.82      0.82      0.82       534\n",
            "\n"
          ]
        }
      ]
    },
    {
      "cell_type": "code",
      "source": [
        "plt.figure(figsize=(4,3))\n",
        "plt.plot(history.history['loss'], label='Training Loss', marker='o')\n",
        "plt.plot(history.history['val_loss'], label='Validation Loss', marker='o')\n",
        "plt.title('Training and Validation Loss')\n",
        "plt.xlabel('Epochs')\n",
        "plt.ylabel('Loss')\n",
        "plt.legend()\n",
        "plt.grid(True)\n",
        "plt.show()"
      ],
      "metadata": {
        "colab": {
          "base_uri": "https://localhost:8080/",
          "height": 333
        },
        "id": "gWEZQ8IklWq8",
        "outputId": "87e1621f-bbab-41f7-d5ad-10983c5833b5"
      },
      "execution_count": 38,
      "outputs": [
        {
          "output_type": "display_data",
          "data": {
            "text/plain": [
              "<Figure size 400x300 with 1 Axes>"
            ],
            "image/png": "[encoded data removed]"
          },
          "metadata": {}
        }
      ]
    },
    {
      "cell_type": "code",
      "source": [
        "plt.plot(history.history['accuracy'], label='Training Accuracy')\n",
        "plt.plot(history.history['val_accuracy'], label='Validation Accuracy')\n",
        "plt.title('Training and Validation Accuracy')\n",
        "plt.xlabel('Epochs')\n",
        "plt.ylabel('Accuracy')\n",
        "plt.legend()\n",
        "plt.show()\n",
        ""
      ],
      "metadata": {
        "colab": {
          "base_uri": "https://localhost:8080/",
          "height": 472
        },
        "id": "8RLSMTaFl8SV",
        "outputId": "d1f6b368-f2bb-4df8-fc2b-c9fc5dc17ddf"
      },
      "execution_count": 39,
      "outputs": [
        {
          "output_type": "display_data",
          "data": {
            "text/plain": [
              "<Figure size 640x480 with 1 Axes>"
            ],
            "image/png": "[encoded data removed]"
          },
          "metadata": {}
        }
      ]
    },
    {
      "cell_type": "code",
      "source": [
        "cm = confusion_matrix(y_true, y_pred_classes)\n",
        "plt.figure(figsize=(8, 6))\n",
        "sns.heatmap(cm, annot=True, fmt=\"d\", cmap=\"Blues\", xticklabels=label_encoder.classes_, yticklabels=label_encoder.classes_)\n",
        "plt.xlabel(\"Predicted\")\n",
        "plt.ylabel(\"Real\")\n",
        "plt.title(\"Confusion Matrix\")\n",
        "plt.show()"
      ],
      "metadata": {
        "colab": {
          "base_uri": "https://localhost:8080/",
          "height": 564
        },
        "id": "7wDuZEYbmIpA",
        "outputId": "131e1985-7d40-415a-f5da-e1124e8e3ed7"
      },
      "execution_count": 40,
      "outputs": [
        {
          "output_type": "display_data",
          "data": {
            "text/plain": [
              "<Figure size 800x600 with 2 Axes>"
            ],
            "image/png": "[encoded data removed]"
          },
          "metadata": {}
        }
      ]
    },
    {
      "cell_type": "code",
      "source": [
        "# LEARNING CURVES\n",
        "plt.figure(figsize=(10, 4))\n",
        "plt.subplot(1, 2, 1)\n",
        "plt.plot(history.history['accuracy'], label='Train Accuracy')\n",
        "plt.plot(history.history['val_accuracy'], label='Val Accuracy')\n",
        "plt.title('Accuracy Over Epochs')\n",
        "plt.xlabel('Epoch')\n",
        "plt.ylabel('Accuracy')\n",
        "plt.legend()\n",
        "\n",
        "plt.subplot(1, 2, 2)\n",
        "plt.plot(history.history['loss'], label='Train Loss')\n",
        "plt.plot(history.history['val_loss'], label='Val Loss')\n",
        "plt.title('Loss Over Epochs')\n",
        "plt.xlabel('Epoch')\n",
        "plt.ylabel('Loss')\n",
        "plt.legend()\n",
        "\n",
        "plt.tight_layout()\n",
        "plt.show()"
      ],
      "metadata": {
        "colab": {
          "base_uri": "https://localhost:8080/",
          "height": 407
        },
        "id": "BRRI2Ti8njkl",
        "outputId": "362c5e3e-8609-45c9-97e8-9494147759cd"
      },
      "execution_count": 42,
      "outputs": [
        {
          "output_type": "display_data",
          "data": {
            "text/plain": [
              "<Figure size 1000x400 with 2 Axes>"
            ],
            "image/png": "[encoded data removed]"
          },
          "metadata": {}
        }
      ]
    },
    {
      "cell_type": "code",
      "source": [
        "new_sentences = [\n",
        "    \"I feel upset about the upcoming project\",\n",
        "    \"This situation makes me anxious\",\n",
        "    \"I went to library\"\n",
        "]\n",
        "\n",
        "tokenizer = lambda x: [[word_to_index[word] for word in sentence.split() if word in word_to_index] for sentence in x]\n",
        "\n",
        "new_sequences = tokenizer(new_sentences)\n",
        "new_sequences_padded = pad_sequences(new_sequences, maxlen=max_sequence_length, padding='post')\n",
        "\n",
        "predictions = model.predict(new_sequences_padded)\n",
        "\n",
        "predicted_emotions = label_encoder.inverse_transform(np.argmax(predictions, axis=1))\n",
        "\n",
        "print(\"Predicted Emotions for New Sentences:\")\n",
        "for sentence, emotion in zip(new_sentences, predicted_emotions):\n",
        "    print(f\"Sentence: {sentence} | Predicted Emotion: {emotion}\")\n",
        ""
      ],
      "metadata": {
        "colab": {
          "base_uri": "https://localhost:8080/"
        },
        "id": "_bql6ISCof2k",
        "outputId": "0ffccab0-f7ce-4c90-af19-ae0b3f6ea4be"
      },
      "execution_count": 45,
      "outputs": [
        {
          "output_type": "stream",
          "name": "stdout",
          "text": [
            "\u001b[1m1/1\u001b[0m \u001b[32m━━━━━━━━━━━━━━━━━━━━\u001b[0m\u001b[37m\u001b[0m \u001b[1m0s\u001b[0m 40ms/step\n",
            "Predicted Emotions for New Sentences:\n",
            "Sentence: I feel upset about the upcoming project | Predicted Emotion: Sad\n",
            "Sentence: This situation makes me anxious | Predicted Emotion: Fear\n",
            "Sentence: I went to library | Predicted Emotion: Neutral\n"
          ]
        }
      ]
    },
    {
      "cell_type": "code",
      "source": [
        "import pickle"
      ],
      "metadata": {
        "id": "ozXrCL3Mo86a"
      },
      "execution_count": 46,
      "outputs": []
    },
    {
      "cell_type": "code",
      "source": [
        "model.save('model.h5')\n",
        "\n",
        "with open('model.pkl', 'wb') as f:\n",
        "    pickle.dump(model, f)\n",
        "\n",
        "print(\"Model saved successfully!\")\n",
        ""
      ],
      "metadata": {
        "colab": {
          "base_uri": "https://localhost:8080/"
        },
        "id": "09Lq7hZDoxbA",
        "outputId": "8149cdd9-3914-45b0-ea83-8d6d57658c5a"
      },
      "execution_count": 47,
      "outputs": [
        {
          "output_type": "stream",
          "name": "stderr",
          "text": [
            "WARNING:absl:You are saving your model as an HDF5 file via `model.save()` or `keras.saving.save_model(model)`. This file format is considered legacy. We recommend using instead the native Keras format, e.g. `model.save('my_model.keras')` or `keras.saving.save_model(model, 'my_model.keras')`. \n"
          ]
        },
        {
          "output_type": "stream",
          "name": "stdout",
          "text": [
            "Model saved successfully!\n"
          ]
        }
      ]
    },
    {
      "cell_type": "code",
      "source": [
        "# Save\n",
        "with open(\"label_encoder.pkl\", \"wb\") as f:\n",
        "    pickle.dump(label_encoder, f)"
      ],
      "metadata": {
        "id": "GcHrkIqzpA0d"
      },
      "execution_count": 48,
      "outputs": []
    },
    {
      "cell_type": "code",
      "source": [
        "from tensorflow.keras.models import load_model\n",
        "import pickle\n",
        "\n",
        "# Load the trained model\n",
        "loaded_model = load_model(\"model.h5\")\n",
        "\n",
        "# Load the label encoder\n",
        "with open(\"label_encoder.pkl\", \"rb\") as f:\n",
        "    label_encoder = pickle.load(f)"
      ],
      "metadata": {
        "colab": {
          "base_uri": "https://localhost:8080/"
        },
        "id": "sSlHveBQpGrw",
        "outputId": "8a447157-ba3e-4b1e-dfa5-7ffec3ae3f90"
      },
      "execution_count": 49,
      "outputs": [
        {
          "output_type": "stream",
          "name": "stderr",
          "text": [
            "WARNING:absl:Compiled the loaded model, but the compiled metrics have yet to be built. `model.compile_metrics` will be empty until you train or evaluate the model.\n"
          ]
        }
      ]
    },
    {
      "cell_type": "code",
      "source": [
        "from tensorflow.keras.preprocessing.sequence import pad_sequences\n",
        "\n",
        "# Function to preprocess new input (same as training preprocessing)\n",
        "def preprocess_input(text, word_to_index, max_sequence_length):\n",
        "    text = text.lower()                        # lowercase\n",
        "    text = re.sub(r'\\d+', '', text)            # remove numbers\n",
        "    text = re.sub(r'http\\S+|www\\S+', '', text) # remove links\n",
        "    text = re.sub(r'\\s+', ' ', text).strip()   # remove extra spaces\n",
        "    words = text.split()\n",
        "    sequence = [word_to_index[word] for word in words if word in word_to_index]\n",
        "    padded_sequence = pad_sequences([sequence], maxlen=max_sequence_length, padding='post')\n",
        "    return padded_sequence"
      ],
      "metadata": {
        "id": "RAeERjtApW67"
      },
      "execution_count": 50,
      "outputs": []
    },
    {
      "cell_type": "code",
      "source": [
        "while True:\n",
        "    user_input = input(\"\\nType a sentence (or 'quit' to exit): \")\n",
        "    if user_input.lower() == 'quit':\n",
        "        break\n",
        "\n",
        "    # Preprocess input\n",
        "    input_seq = preprocess_input(user_input, word_to_index, max_sequence_length)\n",
        "\n",
        "    # Predict\n",
        "    pred_prob = loaded_model.predict(input_seq)\n",
        "    pred_label = label_encoder.inverse_transform([np.argmax(pred_prob)])\n",
        "\n",
        "    print(f\"Predicted Emotion: {pred_label[0]}\")"
      ],
      "metadata": {
        "colab": {
          "base_uri": "https://localhost:8080/"
        },
        "id": "-RHIH9rlpcLP",
        "outputId": "bebc0ccf-a454-4cd6-99dc-c90a9111bc36"
      },
      "execution_count": 51,
      "outputs": [
        {
          "name": "stdout",
          "output_type": "stream",
          "text": [
            "\n",
            "Type a sentence (or 'quit' to exit): i got highest marks for exms\n",
            "\u001b[1m1/1\u001b[0m \u001b[32m━━━━━━━━━━━━━━━━━━━━\u001b[0m\u001b[37m\u001b[0m \u001b[1m1s\u001b[0m 812ms/step\n",
            "Predicted Emotion: Joy\n",
            "\n",
            "Type a sentence (or 'quit' to exit): quit\n"
          ]
        }
      ]
    }
  ],
  "metadata": {
    "colab": {
      "provenance": []
    },
    "kernelspec": {
      "display_name": "Python 3",
      "name": "python3"
    },
    "language_info": {
      "name": "python"
    }
  },
  "nbformat": 4,
  "nbformat_minor": 0
}